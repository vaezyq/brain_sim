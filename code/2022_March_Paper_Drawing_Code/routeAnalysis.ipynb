{
 "cells": [
  {
   "cell_type": "code",
   "execution_count": 2,
   "metadata": {
    "collapsed": true,
    "pycharm": {
     "name": "#%%\n"
    }
   },
   "outputs": [
    {
     "name": "stdout",
     "output_type": "stream",
     "text": [
      "map_1600_v4_cortical_v2\n",
      "########### 40*40 ###########\n",
      "inside group: 39 3 22.1725\n",
      "between group: 39 36 38.830625\n",
      "sum: 78 42 61.003125\n",
      "5.12 seconds consumed.\n",
      "########### 16*10*10 ###########\n",
      "inside group: 9 0 7.629375\n",
      "between group: 24 19 23.505\n",
      "sum: 33 24 31.134375\n",
      "5.06 seconds consumed.\n",
      "########### 8*5*5*8 ###########\n",
      "inside group: 7 0 6.3\n",
      "between group: 15 12 14.675625\n",
      "sum: 22 15 20.975625\n",
      "5.02 seconds consumed.\n",
      "map_1600_v2_cortical_v2\n",
      "########### 40*40 ###########\n",
      "inside group: 39 5 24.37\n",
      "between group: 39 37 38.9525\n",
      "sum: 78 44 63.3225\n",
      "5.11 seconds consumed.\n",
      "########### 16*10*10 ###########\n",
      "inside group: 9 1 7.9225\n",
      "between group: 24 21 23.755625\n",
      "sum: 33 24 31.678125\n",
      "5.06 seconds consumed.\n",
      "########### 8*5*5*8 ###########\n",
      "inside group: 7 1 6.336875\n",
      "between group: 15 13 14.843125\n",
      "sum: 22 16 21.18\n",
      "5.02 seconds consumed.\n"
     ]
    }
   ],
   "source": [
    "from route_analysis import *\n",
    "\n",
    "print(\"map_1600_v4_cortical_v2\")\n",
    "\n",
    "cal_genuine_link_number_base_dense_route_table_random_dim(1600,\n",
    "                                                          \"traffic_table/traffic_table_base_dcu_map_1600_v4_cortical_v2.npy\",\n",
    "                                                          \"route_table/route_default_2dim_40_40.npy\", (40, 40))\n",
    "\n",
    "cal_genuine_link_number_base_dense_route_table_random_dim(1600,\n",
    "                                                          \"traffic_table/traffic_table_base_dcu_map_1600_v4_cortical_v2.npy\",\n",
    "                                                          \"route_table/route_default_3dim_16_10_10.npy\", (16, 10, 10))\n",
    "\n",
    "cal_genuine_link_number_base_dense_route_table_random_dim(1600,\n",
    "                                                          \"traffic_table/traffic_table_base_dcu_map_1600_v4_cortical_v2.npy\",\n",
    "                                                          \"route_table/route_default_4dim_8_5_5_8.npy\", (8, 5, 5, 8))\n",
    "print(\"map_1600_v2_cortical_v2\")\n",
    "\n",
    "cal_genuine_link_number_base_dense_route_table_random_dim(1600,\n",
    "                                                          \"traffic_table/traffic_table_base_dcu_map_1600_v2_cortical_v2.npy\",\n",
    "                                                          \"route_table/route_default_2dim_40_40.npy\", (40, 40))\n",
    "\n",
    "cal_genuine_link_number_base_dense_route_table_random_dim(1600,\n",
    "                                                          \"traffic_table/traffic_table_base_dcu_map_1600_v2_cortical_v2.npy\",\n",
    "                                                          \"route_table/route_default_3dim_16_10_10.npy\", (16, 10, 10))\n",
    "\n",
    "cal_genuine_link_number_base_dense_route_table_random_dim(1600,\n",
    "                                                          \"traffic_table/traffic_table_base_dcu_map_1600_v2_cortical_v2.npy\",\n",
    "                                                          \"route_table/route_default_4dim_8_5_5_8.npy\", (8, 5, 5, 8))"
   ]
  },
  {
   "cell_type": "code",
   "execution_count": 4,
   "outputs": [
    {
     "name": "stdout",
     "output_type": "stream",
     "text": [
      "map_1200_v1_cortical_v2\n",
      "########### 30*40 ###########\n",
      "inside group: 39 7 23.5375\n",
      "between group: 29 25 28.836666666666666\n",
      "sum: 68 36 52.37416666666667\n",
      "2.88 seconds consumed.\n",
      "########### 12*10*10 ###########\n",
      "inside group: 9 1 7.493333333333333\n",
      "between group: 20 15 19.645833333333332\n",
      "sum: 29 20 27.139166666666668\n",
      "2.85 seconds consumed.\n",
      "########### 8*5*5*6 ###########\n",
      "inside group: 5 1 4.653333333333333\n",
      "between group: 15 11 14.566666666666666\n",
      "sum: 20 15 19.22\n",
      "2.84 seconds consumed.\n",
      "map_1200_v12_cortical_v2\n",
      "########### 30*40 ###########\n",
      "inside group: 39 10 28.093333333333334\n",
      "between group: 29 28 28.990833333333335\n",
      "sum: 68 39 57.08416666666667\n",
      "2.92 seconds consumed.\n",
      "########### 12*10*10 ###########\n",
      "inside group: 9 1 8.061666666666667\n",
      "between group: 20 18 19.936666666666667\n",
      "sum: 29 21 27.998333333333335\n",
      "2.91 seconds consumed.\n",
      "########### 8*5*5*6 ###########\n",
      "inside group: 5 1 4.758333333333334\n",
      "between group: 15 13 14.891666666666667\n",
      "sum: 20 16 19.65\n",
      "2.88 seconds consumed.\n"
     ]
    }
   ],
   "source": [
    "from route_analysis import *\n",
    "\n",
    "print(\"map_1200_v1_cortical_v2\")\n",
    "\n",
    "cal_genuine_link_number_base_dense_route_table_random_dim(1200,\n",
    "                                                          \"traffic_table/traffic_table_base_dcu_map_1200_v1_cortical_v2.npy\",\n",
    "                                                          \"route_table/route_default_2dim_30_40.npy\", (30, 40))\n",
    "\n",
    "cal_genuine_link_number_base_dense_route_table_random_dim(1200,\n",
    "                                                          \"traffic_table/traffic_table_base_dcu_map_1200_v1_cortical_v2.npy\",\n",
    "                                                          \"route_table/route_default_3dim_12_10_10.npy\", (12, 10, 10))\n",
    "\n",
    "cal_genuine_link_number_base_dense_route_table_random_dim(1200,\n",
    "                                                          \"traffic_table/traffic_table_base_dcu_map_1200_v1_cortical_v2.npy\",\n",
    "                                                          \"route_table/route_default_4dim_8_5_5_6.npy\", (8, 5, 5, 6))\n",
    "print(\"map_1200_v12_cortical_v2\")\n",
    "\n",
    "cal_genuine_link_number_base_dense_route_table_random_dim(1200,\n",
    "                                                          \"traffic_table/traffic_table_base_dcu_map_1200_v12_cortical_v2.npy\",\n",
    "                                                          \"route_table/route_default_2dim_30_40.npy\", (30, 40))\n",
    "\n",
    "cal_genuine_link_number_base_dense_route_table_random_dim(1200,\n",
    "                                                          \"traffic_table/traffic_table_base_dcu_map_1200_v12_cortical_v2.npy\",\n",
    "                                                          \"route_table/route_default_3dim_12_10_10.npy\", (12, 10, 10))\n",
    "\n",
    "cal_genuine_link_number_base_dense_route_table_random_dim(1200,\n",
    "                                                          \"traffic_table/traffic_table_base_dcu_map_1200_v12_cortical_v2.npy\",\n",
    "                                                          \"route_table/route_default_4dim_8_5_5_6.npy\", (8, 5, 5, 6))"
   ],
   "metadata": {
    "collapsed": false,
    "pycharm": {
     "name": "#%%\n"
    }
   }
  },
  {
   "cell_type": "code",
   "execution_count": 5,
   "outputs": [
    {
     "name": "stdout",
     "output_type": "stream",
     "text": [
      "map_800_v1_cortical_v2\n",
      "########### 20*40 ###########\n",
      "inside group: 39 9 28.49625\n",
      "between group: 19 17 18.95875\n",
      "sum: 58 28 47.455\n",
      "1.30 seconds consumed.\n",
      "########### 8*10*10 ###########\n",
      "inside group: 9 1 7.4725\n",
      "between group: 16 13 15.91625\n",
      "sum: 25 14 23.38875\n",
      "1.30 seconds consumed.\n",
      "########### 8*5*5*4 ###########\n",
      "inside group: 3 1 2.9125\n",
      "between group: 15 12 14.67375\n",
      "sum: 18 15 17.58625\n",
      "1.30 seconds consumed.\n",
      "map_800_v2_cortical_v2\n",
      "########### 20*40 ###########\n",
      "inside group: 39 11 32.36125\n",
      "between group: 19 17 18.98875\n",
      "sum: 58 30 51.35\n",
      "1.32 seconds consumed.\n",
      "########### 8*10*10 ###########\n",
      "inside group: 9 3 8.09\n",
      "between group: 16 15 15.98375\n",
      "sum: 25 19 24.07375\n",
      "1.30 seconds consumed.\n",
      "########### 8*5*5*4 ###########\n",
      "inside group: 3 1 2.91875\n",
      "between group: 15 12 14.905\n",
      "sum: 18 15 17.82375\n",
      "1.30 seconds consumed.\n"
     ]
    }
   ],
   "source": [
    "from route_analysis import *\n",
    "\n",
    "print(\"map_800_v1_cortical_v2\")\n",
    "\n",
    "cal_genuine_link_number_base_dense_route_table_random_dim(800,\n",
    "                                                          \"traffic_table/traffic_table_base_dcu_map_800_v1_cortical_v2.npy\",\n",
    "                                                          \"route_table/route_default_2dim_20_40.npy\", (20, 40))\n",
    "\n",
    "cal_genuine_link_number_base_dense_route_table_random_dim(800,\n",
    "                                                          \"traffic_table/traffic_table_base_dcu_map_800_v1_cortical_v2.npy\",\n",
    "                                                          \"route_table/route_default_3dim_8_10_10.npy\", (8, 10, 10))\n",
    "\n",
    "cal_genuine_link_number_base_dense_route_table_random_dim(800,\n",
    "                                                          \"traffic_table/traffic_table_base_dcu_map_800_v1_cortical_v2.npy\",\n",
    "                                                          \"route_table/route_default_4dim_8_5_5_4.npy\", (8, 5, 5, 4))\n",
    "print(\"map_800_v2_cortical_v2\")\n",
    "\n",
    "cal_genuine_link_number_base_dense_route_table_random_dim(800,\n",
    "                                                          \"traffic_table/traffic_table_base_dcu_map_800_v2_cortical_v2.npy\",\n",
    "                                                          \"route_table/route_default_2dim_20_40.npy\", (20, 40))\n",
    "\n",
    "cal_genuine_link_number_base_dense_route_table_random_dim(800,\n",
    "                                                          \"traffic_table/traffic_table_base_dcu_map_800_v2_cortical_v2.npy\",\n",
    "                                                          \"route_table/route_default_3dim_8_10_10.npy\", (8, 10, 10))\n",
    "\n",
    "cal_genuine_link_number_base_dense_route_table_random_dim(800,\n",
    "                                                          \"traffic_table/traffic_table_base_dcu_map_800_v2_cortical_v2.npy\",\n",
    "                                                          \"route_table/route_default_4dim_8_5_5_4.npy\", (8, 5, 5, 4))"
   ],
   "metadata": {
    "collapsed": false,
    "pycharm": {
     "name": "#%%\n"
    }
   }
  },
  {
   "cell_type": "code",
   "execution_count": 7,
   "outputs": [
    {
     "name": "stdout",
     "output_type": "stream",
     "text": [
      "sum: 771 189 467.0925\n",
      "sum: 784 244 527.0375\n",
      "sum: 1092 206 534.0241666666667\n",
      "sum: 1094 274 681.9241666666667\n",
      "sum: 1496 107 656.30375\n",
      "sum: 1329 244 718.480625\n"
     ]
    }
   ],
   "source": [
    "from route_analysis import *\n",
    "\n",
    "calculate_one_dim_conn(\"traffic_table/traffic_table_base_dcu_map_800_v1_cortical_v2.npy\")\n",
    "calculate_one_dim_conn(\"traffic_table/traffic_table_base_dcu_map_800_v2_cortical_v2.npy\")\n",
    "calculate_one_dim_conn(\"traffic_table/traffic_table_base_dcu_map_1200_v1_cortical_v2.npy\")\n",
    "calculate_one_dim_conn(\"traffic_table/traffic_table_base_dcu_map_1200_v12_cortical_v2.npy\")\n",
    "calculate_one_dim_conn(\"traffic_table/traffic_table_base_dcu_map_1600_v4_cortical_v2.npy\")\n",
    "calculate_one_dim_conn(\"traffic_table/traffic_table_base_dcu_map_1600_v2_cortical_v2.npy\")"
   ],
   "metadata": {
    "collapsed": false,
    "pycharm": {
     "name": "#%%\n"
    }
   }
  },
  {
   "cell_type": "code",
   "execution_count": null,
   "outputs": [],
   "source": [],
   "metadata": {
    "collapsed": false,
    "pycharm": {
     "name": "#%%\n"
    }
   }
  }
 ],
 "metadata": {
  "kernelspec": {
   "display_name": "Python 3",
   "language": "python",
   "name": "python3"
  },
  "language_info": {
   "codemirror_mode": {
    "name": "ipython",
    "version": 2
   },
   "file_extension": ".py",
   "mimetype": "text/x-python",
   "name": "python",
   "nbconvert_exporter": "python",
   "pygments_lexer": "ipython2",
   "version": "2.7.6"
  }
 },
 "nbformat": 4,
 "nbformat_minor": 0
}